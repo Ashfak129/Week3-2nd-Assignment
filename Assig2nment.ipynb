{
 "cells": [
  {
   "cell_type": "code",
   "execution_count": null,
   "id": "08bf6b97-ccd1-48d7-950c-19f1ac0b5dab",
   "metadata": {},
   "outputs": [],
   "source": [
    "Q1. Create a python program to sort the given list of tuples based on integer value using a lambda function.\n",
    "[('Sachin Tendulkar', 34357), ('Ricky Ponting', 27483), ('Jack Kallis', 25534), ('Virat Kohli', 24936)]\n",
    "Ans:- I can use the sorted function in Python along with a lambda function to sort the list of tuples based on the\n",
    "second element (integer value). Here's a Python program to achieve this:\n",
    "#Program\n",
    "data = [('Sachin Tendulkar', 34357), ('Ricky Ponting', 27483), ('Jack Kallis', 25534), ('Virat Kohli', 24936)]\n",
    "sorted_data = sorted(data, key=lambda x: x[1])\n",
    "print(sorted_data)\n",
    "\n",
    "    This program will output the sorted list of tuples based on the integer value:\n",
    "[('Virat Kohli', 24936), ('Jack Kallis', 25534), ('Ricky Ponting', 27483), ('Sachin Tendulkar', 34357)]\n"
   ]
  },
  {
   "cell_type": "code",
   "execution_count": null,
   "id": "3722f2f0-4cb4-429d-a5d9-025c9cc087ad",
   "metadata": {},
   "outputs": [],
   "source": []
  },
  {
   "cell_type": "code",
   "execution_count": null,
   "id": "904d9525-6d92-4add-84d8-f871d68f1d3d",
   "metadata": {},
   "outputs": [],
   "source": [
    "Q2. Write a Python Program to find the squares of all the numbers in the given list of integers using\n",
    "lambda and map functions.\n",
    "Ans:- I can use the map function along with a lambda function to find the squares of all the numbers in the given\n",
    "list of integers. Here's the Python program to achieve this:\n",
    "#Program\n",
    "numbers = [1, 2, 3, 4, 5, 6, 7, 8, 9, 10]\n",
    "squares = list(map(lambda x: x**2, numbers))\n",
    "print(squares)\n",
    "\n",
    "Output:-\n",
    "[1, 4, 9, 16, 25, 36, 49, 64, 81, 100]\n"
   ]
  },
  {
   "cell_type": "code",
   "execution_count": null,
   "id": "7c0cb0f8-bebb-4d2d-a0c2-73918e4f4e44",
   "metadata": {},
   "outputs": [],
   "source": []
  },
  {
   "cell_type": "code",
   "execution_count": null,
   "id": "6d17a347-f278-484d-957f-8b6a6b3923c8",
   "metadata": {},
   "outputs": [],
   "source": [
    "Q3. Write a python program to convert the given list of integers into a tuple of strings. Use map and\n",
    "lambda functions\n",
    "Given String: [1, 2, 3, 4, 5, 6, 7, 8, 9, 10]\n",
    "Expected output: ('1', '2', '3', '4', '5', '6', '7', '8', '9', '10')\n",
    "Ans:- I can use the map function along with a lambda function to convert the given list of integers into a tuple of\n",
    "strings. Here's the Python program to achieve this:\n",
    "#Program\n",
    "numbers = [1, 2, 3, 4, 5, 6, 7, 8, 9, 10]\n",
    "string_tuple = tuple(map(lambda x: str(x), numbers))\n",
    "print(string_tuple)\n",
    "\n",
    "Output:-\n",
    "('1', '2', '3', '4', '5', '6', '7', '8', '9', '10')\n"
   ]
  },
  {
   "cell_type": "code",
   "execution_count": null,
   "id": "48afa4b0-d766-44e4-965f-a4ffac70d9ee",
   "metadata": {},
   "outputs": [],
   "source": []
  },
  {
   "cell_type": "code",
   "execution_count": null,
   "id": "bad1a1eb-9e0d-4e97-bf0d-b17ba6f0ed90",
   "metadata": {},
   "outputs": [],
   "source": [
    "Q4. Write a python program using reduce function to compute the product of a list containing numbers\n",
    "from 1 to 25.\n",
    "Ans:- To compute the product of a list containing numbers from 1 to 25 using the reduce function, I need to first \n",
    "import the reduce function from the functools module. Here's the Python program:\n",
    "from functools import reduce\n",
    "\n",
    "# Create a list containing numbers from 1 to 25\n",
    "numbers = list(range(1, 26))\n",
    "\n",
    "# Define the function to calculate the product of two numbers\n",
    "def multiply(x, y):\n",
    "    return x * y\n",
    "\n",
    "# Use the reduce function to compute the product of the list\n",
    "product = reduce(multiply, numbers)\n",
    "\n",
    "print(\"Product:\", product)\n",
    "\n",
    "Output:-\n",
    "Product: 15511210043330985984000000\n"
   ]
  },
  {
   "cell_type": "code",
   "execution_count": null,
   "id": "918ec8d5-d567-4333-b52e-6f40602b20bf",
   "metadata": {},
   "outputs": [],
   "source": []
  },
  {
   "cell_type": "code",
   "execution_count": null,
   "id": "a3768ba2-a396-4f7e-aa6e-b4dc08b153b5",
   "metadata": {},
   "outputs": [],
   "source": [
    "Q5. Write a python program to filter the numbers in a given list that are divisible by 2 and 3 using the\n",
    "filter function.\n",
    "[2, 3, 6, 9, 27, 60, 90, 120, 55, 46]\n",
    "Ans:- I can use the filter function to filter the numbers in the given list that are divisible by both 2 and 3. Here's\n",
    "the Python program to achieve this:\n",
    "#Program\n",
    "numbers = [2, 3, 6, 9, 27, 60, 90, 120, 55, 46]\n",
    "\n",
    "# Define the function to check if a number is divisible by 2 and 3\n",
    "def divisible_by_2_and_3(x):\n",
    "    return x % 2 == 0 and x % 3 == 0\n",
    "\n",
    "# Use the filter function to get the numbers that satisfy the condition\n",
    "filtered_numbers = list(filter(divisible_by_2_and_3, numbers))\n",
    "\n",
    "print(filtered_numbers)\n",
    "\n",
    "#Output:-\n",
    "[6, 60, 90, 120]\n"
   ]
  },
  {
   "cell_type": "code",
   "execution_count": null,
   "id": "154ac34c-77c3-4f9d-9ea8-082e4fd94c22",
   "metadata": {},
   "outputs": [],
   "source": []
  },
  {
   "cell_type": "code",
   "execution_count": null,
   "id": "0d769532-cc8c-4439-a9a5-2c84fb50ab9d",
   "metadata": {},
   "outputs": [],
   "source": [
    "Q6. Write a python program to find palindromes in the given list of strings using lambda and filter function.\n",
    "['python', 'php', 'aba', 'radar', 'level']\n",
    "Ans:- I can use the filter function along with a lambda function to find palindromes in the given list of strings.\n",
    "Here's the Python program to achieve this:\n",
    "#Program\n",
    "strings = ['python', 'php', 'aba', 'radar', 'level']\n",
    "\n",
    "# Define the lambda function to check if a string is a palindrome\n",
    "is_palindrome = lambda s: s == s[::-1]\n",
    "\n",
    "# Use the filter function to get the palindromes from the list\n",
    "palindromes = list(filter(is_palindrome, strings))\n",
    "\n",
    "print(palindromes)\n",
    "#Output:-\n",
    "['aba', 'radar', 'level']\n"
   ]
  }
 ],
 "metadata": {
  "kernelspec": {
   "display_name": "Python 3 (ipykernel)",
   "language": "python",
   "name": "python3"
  },
  "language_info": {
   "codemirror_mode": {
    "name": "ipython",
    "version": 3
   },
   "file_extension": ".py",
   "mimetype": "text/x-python",
   "name": "python",
   "nbconvert_exporter": "python",
   "pygments_lexer": "ipython3",
   "version": "3.10.8"
  }
 },
 "nbformat": 4,
 "nbformat_minor": 5
}
